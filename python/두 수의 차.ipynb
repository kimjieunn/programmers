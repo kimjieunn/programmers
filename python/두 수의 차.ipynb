{
 "cells": [
  {
   "cell_type": "markdown",
   "id": "01493a37",
   "metadata": {},
   "source": [
    "## 프로그래머스\n",
    "### 두 수의 차"
   ]
  },
  {
   "cell_type": "code",
   "execution_count": 1,
   "id": "c40deb17",
   "metadata": {},
   "outputs": [],
   "source": [
    "def solution(num1, num2):\n",
    "    answer = 0\n",
    "    if (num1 < -50000) or (num1 > 50000) or (num2 < -50000) or (num2 > 50000):\n",
    "        pass\n",
    "    else:\n",
    "        answer = num1 - num2\n",
    "    return answer"
   ]
  },
  {
   "cell_type": "code",
   "execution_count": 2,
   "id": "657419e4",
   "metadata": {},
   "outputs": [
    {
     "name": "stdout",
     "output_type": "stream",
     "text": [
      "-1\n",
      "98\n"
     ]
    }
   ],
   "source": [
    "print(solution(2, 3))\n",
    "print(solution(100, 2))"
   ]
  }
 ],
 "metadata": {
  "kernelspec": {
   "display_name": "Python 3",
   "language": "python",
   "name": "python3"
  },
  "language_info": {
   "codemirror_mode": {
    "name": "ipython",
    "version": 3
   },
   "file_extension": ".py",
   "mimetype": "text/x-python",
   "name": "python",
   "nbconvert_exporter": "python",
   "pygments_lexer": "ipython3",
   "version": "3.8.8"
  }
 },
 "nbformat": 4,
 "nbformat_minor": 5
}
