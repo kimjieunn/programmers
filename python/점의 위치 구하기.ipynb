{
 "cells": [
  {
   "cell_type": "markdown",
   "id": "b723c0fd",
   "metadata": {},
   "source": [
    "## 프로그래머스\n",
    "### 점의 위치 이야기"
   ]
  },
  {
   "cell_type": "code",
   "execution_count": 2,
   "id": "bc15ed21",
   "metadata": {},
   "outputs": [],
   "source": [
    "def solution(dot):\n",
    "    answer = 0\n",
    "    if dot[0] > 0 and dot[1] > 0:\n",
    "        return 1\n",
    "    elif dot[0] < 0 and dot[1] > 0:\n",
    "        return 2\n",
    "    elif dot[0] < 0 and dot[1] < 0:\n",
    "        return 3\n",
    "    else:\n",
    "        return 4\n",
    "    return answer"
   ]
  },
  {
   "cell_type": "code",
   "execution_count": 3,
   "id": "cd193f3c",
   "metadata": {},
   "outputs": [
    {
     "name": "stdout",
     "output_type": "stream",
     "text": [
      "1\n",
      "2\n"
     ]
    }
   ],
   "source": [
    "print(solution([2, 4]))\n",
    "print(solution([-7, 9]))"
   ]
  }
 ],
 "metadata": {
  "kernelspec": {
   "display_name": "Python 3",
   "language": "python",
   "name": "python3"
  },
  "language_info": {
   "codemirror_mode": {
    "name": "ipython",
    "version": 3
   },
   "file_extension": ".py",
   "mimetype": "text/x-python",
   "name": "python",
   "nbconvert_exporter": "python",
   "pygments_lexer": "ipython3",
   "version": "3.8.8"
  }
 },
 "nbformat": 4,
 "nbformat_minor": 5
}
