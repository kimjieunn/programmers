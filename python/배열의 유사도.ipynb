{
 "cells": [
  {
   "cell_type": "markdown",
   "id": "b723c0fd",
   "metadata": {},
   "source": [
    "## 프로그래머스\n",
    "### 배열의 유사도"
   ]
  },
  {
   "cell_type": "code",
   "execution_count": 1,
   "id": "bc15ed21",
   "metadata": {},
   "outputs": [],
   "source": [
    "def solution(s1, s2):\n",
    "    return len(set(s1)&set(s2));"
   ]
  },
  {
   "cell_type": "code",
   "execution_count": 2,
   "id": "cd193f3c",
   "metadata": {},
   "outputs": [
    {
     "name": "stdout",
     "output_type": "stream",
     "text": [
      "2\n",
      "0\n"
     ]
    }
   ],
   "source": [
    "print(solution([\"a\", \"b\", \"c\"], [\"com\", \"b\", \"d\", \"p\", \"c\"]))\n",
    "print(solution([\"n\", \"omg\"], [\"m\", \"dot\"]))"
   ]
  }
 ],
 "metadata": {
  "kernelspec": {
   "display_name": "Python 3",
   "language": "python",
   "name": "python3"
  },
  "language_info": {
   "codemirror_mode": {
    "name": "ipython",
    "version": 3
   },
   "file_extension": ".py",
   "mimetype": "text/x-python",
   "name": "python",
   "nbconvert_exporter": "python",
   "pygments_lexer": "ipython3",
   "version": "3.8.8"
  }
 },
 "nbformat": 4,
 "nbformat_minor": 5
}
