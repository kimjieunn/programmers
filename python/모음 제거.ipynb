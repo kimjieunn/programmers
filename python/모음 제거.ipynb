{
 "cells": [
  {
   "cell_type": "markdown",
   "id": "b723c0fd",
   "metadata": {},
   "source": [
    "## 프로그래머스\n",
    "### 모음 제거"
   ]
  },
  {
   "cell_type": "code",
   "execution_count": 1,
   "id": "bc15ed21",
   "metadata": {},
   "outputs": [],
   "source": [
    "def solution(my_string):\n",
    "    a = (\"a,e,i,o,u\")\n",
    "    answer = ''\n",
    "    for i in my_string:\n",
    "        if i not in a:\n",
    "            answer+=i\n",
    "    return answer"
   ]
  },
  {
   "cell_type": "code",
   "execution_count": 2,
   "id": "cd193f3c",
   "metadata": {},
   "outputs": [
    {
     "name": "stdout",
     "output_type": "stream",
     "text": [
      "bs\n",
      "nc t mt y\n"
     ]
    }
   ],
   "source": [
    "print(solution(\"bus\"))\n",
    "print(solution(\"nice to meet you\"))"
   ]
  }
 ],
 "metadata": {
  "kernelspec": {
   "display_name": "Python 3",
   "language": "python",
   "name": "python3"
  },
  "language_info": {
   "codemirror_mode": {
    "name": "ipython",
    "version": 3
   },
   "file_extension": ".py",
   "mimetype": "text/x-python",
   "name": "python",
   "nbconvert_exporter": "python",
   "pygments_lexer": "ipython3",
   "version": "3.8.8"
  }
 },
 "nbformat": 4,
 "nbformat_minor": 5
}
