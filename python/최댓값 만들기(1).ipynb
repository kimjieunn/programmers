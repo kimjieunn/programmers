{
 "cells": [
  {
   "cell_type": "markdown",
   "id": "b723c0fd",
   "metadata": {},
   "source": [
    "## 프로그래머스\n",
    "### 최댓값 만들기(1)"
   ]
  },
  {
   "cell_type": "code",
   "execution_count": 1,
   "id": "bc15ed21",
   "metadata": {},
   "outputs": [],
   "source": [
    "def solution(numbers):\n",
    "    numbers.sort()\n",
    "    return numbers[-2] * numbers[-1]"
   ]
  },
  {
   "cell_type": "code",
   "execution_count": 2,
   "id": "cd193f3c",
   "metadata": {},
   "outputs": [
    {
     "name": "stdout",
     "output_type": "stream",
     "text": [
      "20\n",
      "744\n"
     ]
    }
   ],
   "source": [
    "print(solution([1, 2, 3, 4, 5]))\n",
    "print(solution([0, 31, 24, 10, 1, 9]))"
   ]
  }
 ],
 "metadata": {
  "kernelspec": {
   "display_name": "Python 3",
   "language": "python",
   "name": "python3"
  },
  "language_info": {
   "codemirror_mode": {
    "name": "ipython",
    "version": 3
   },
   "file_extension": ".py",
   "mimetype": "text/x-python",
   "name": "python",
   "nbconvert_exporter": "python",
   "pygments_lexer": "ipython3",
   "version": "3.8.8"
  }
 },
 "nbformat": 4,
 "nbformat_minor": 5
}
