{
 "cells": [
  {
   "cell_type": "markdown",
   "id": "b723c0fd",
   "metadata": {},
   "source": [
    "## 프로그래머스\n",
    "### 배열의 평균값"
   ]
  },
  {
   "cell_type": "code",
   "execution_count": 1,
   "id": "bc15ed21",
   "metadata": {},
   "outputs": [],
   "source": [
    "def solution(numbers):\n",
    "    answer = 0\n",
    "    for i in numbers:\n",
    "        answer += i\n",
    "    answer = answer/len(numbers)\n",
    "    return answer"
   ]
  },
  {
   "cell_type": "code",
   "execution_count": 3,
   "id": "cd193f3c",
   "metadata": {},
   "outputs": [
    {
     "name": "stdout",
     "output_type": "stream",
     "text": [
      "5.5\n",
      "94.0\n"
     ]
    }
   ],
   "source": [
    "print(solution([1, 2, 3, 4, 5, 6, 7, 8, 9, 10]))\n",
    "print(solution([89, 90, 91, 92, 93, 94, 95, 96, 97, 98, 99]))"
   ]
  }
 ],
 "metadata": {
  "kernelspec": {
   "display_name": "Python 3",
   "language": "python",
   "name": "python3"
  },
  "language_info": {
   "codemirror_mode": {
    "name": "ipython",
    "version": 3
   },
   "file_extension": ".py",
   "mimetype": "text/x-python",
   "name": "python",
   "nbconvert_exporter": "python",
   "pygments_lexer": "ipython3",
   "version": "3.8.8"
  }
 },
 "nbformat": 4,
 "nbformat_minor": 5
}
