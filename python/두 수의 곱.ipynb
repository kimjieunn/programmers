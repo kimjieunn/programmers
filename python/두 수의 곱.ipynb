{
 "cells": [
  {
   "cell_type": "markdown",
   "id": "b723c0fd",
   "metadata": {},
   "source": [
    "## 프로그래머스\n",
    "### 두 수의 곱"
   ]
  },
  {
   "cell_type": "code",
   "execution_count": 2,
   "id": "bc15ed21",
   "metadata": {},
   "outputs": [],
   "source": [
    "def solution(num1, num2):\n",
    "    answer = 0\n",
    "    if (num1 < 0) or (num1 > 100) or (num2 < 0) or (num2 > 100):\n",
    "        pass\n",
    "    else:\n",
    "        answer = num1 * num2\n",
    "    return answer"
   ]
  },
  {
   "cell_type": "code",
   "execution_count": 8,
   "id": "cd193f3c",
   "metadata": {},
   "outputs": [
    {
     "name": "stdout",
     "output_type": "stream",
     "text": [
      "12\n",
      "513\n"
     ]
    }
   ],
   "source": [
    "print(solution(3, 4))\n",
    "print(solution(27, 19))"
   ]
  }
 ],
 "metadata": {
  "kernelspec": {
   "display_name": "Python 3",
   "language": "python",
   "name": "python3"
  },
  "language_info": {
   "codemirror_mode": {
    "name": "ipython",
    "version": 3
   },
   "file_extension": ".py",
   "mimetype": "text/x-python",
   "name": "python",
   "nbconvert_exporter": "python",
   "pygments_lexer": "ipython3",
   "version": "3.8.8"
  }
 },
 "nbformat": 4,
 "nbformat_minor": 5
}
