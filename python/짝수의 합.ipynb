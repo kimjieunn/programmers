{
 "cells": [
  {
   "cell_type": "markdown",
   "id": "b723c0fd",
   "metadata": {},
   "source": [
    "## 프로그래머스\n",
    "### 짝수의 합"
   ]
  },
  {
   "cell_type": "code",
   "execution_count": 2,
   "id": "bc15ed21",
   "metadata": {},
   "outputs": [],
   "source": [
    "def solution(n):\n",
    "    answer = 0\n",
    "    for i in range(n + 1):\n",
    "        if (i % 2) == 0:\n",
    "            answer += i            \n",
    "    return answer"
   ]
  },
  {
   "cell_type": "code",
   "execution_count": 3,
   "id": "cd193f3c",
   "metadata": {},
   "outputs": [
    {
     "name": "stdout",
     "output_type": "stream",
     "text": [
      "30\n",
      "6\n"
     ]
    }
   ],
   "source": [
    "print(solution(10))\n",
    "print(solution(4))\n"
   ]
  }
 ],
 "metadata": {
  "kernelspec": {
   "display_name": "Python 3",
   "language": "python",
   "name": "python3"
  },
  "language_info": {
   "codemirror_mode": {
    "name": "ipython",
    "version": 3
   },
   "file_extension": ".py",
   "mimetype": "text/x-python",
   "name": "python",
   "nbconvert_exporter": "python",
   "pygments_lexer": "ipython3",
   "version": "3.8.8"
  }
 },
 "nbformat": 4,
 "nbformat_minor": 5
}
